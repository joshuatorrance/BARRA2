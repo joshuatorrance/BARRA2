{
 "cells": [
  {
   "cell_type": "markdown",
   "id": "b87b54a9-337f-409a-b5c3-2f06158c48cb",
   "metadata": {},
   "source": [
    "# Minimum example of weird snow netCDF behaviour"
   ]
  },
  {
   "cell_type": "code",
   "execution_count": 54,
   "id": "4d71e210-db62-4fef-a40f-f0e7a3893852",
   "metadata": {
    "tags": []
   },
   "outputs": [],
   "source": [
    "from xarray import open_dataset, open_mfdataset\n",
    "import xarray as xr\n",
    "from glob import glob\n",
    "from os import mkdir\n",
    "from os.path import join, exists, basename\n",
    "from tarfile import open as open_tar\n",
    "from matplotlib import pyplot as plt\n",
    "from numpy import count_nonzero, isnan, mean\n",
    "from numpy.ma import count_masked\n",
    "import netCDF4\n",
    "import numpy as np\n",
    "import pandas as pd\n",
    "import cartopy.crs as ccrs"
   ]
  },
  {
   "cell_type": "code",
   "execution_count": null,
   "id": "8b6f4b5b-f134-4466-868f-6ff9970fcaed",
   "metadata": {
    "tags": []
   },
   "outputs": [],
   "source": [
    "from dask.distributed import Client, LocalCluster\n",
    "cluster = LocalCluster()\n",
    "client = Client(cluster)\n",
    "#client"
   ]
  },
  {
   "cell_type": "code",
   "execution_count": 80,
   "id": "9bcee170-c788-485b-9883-ce5bcf9eb2ce",
   "metadata": {
    "tags": []
   },
   "outputs": [],
   "source": [
    "# File paths\n",
    "\n",
    "# Unpacked level zero data\n",
    "data_dir = \"/scratch/hd50/jt4085/cylc-run/pp_BARRA-R2_SNW/run1/share/cycle/19930301T0000Z/nc/SLV3H\"\n",
    "file1 = \"snow_amt_lnd-barra_r2-hres-199303200900-199303201500.nc\"\n",
    "file2 = \"snow_amt_lnd-barra_r2-hres-199303201500-199303202100.nc\"\n",
    "\n",
    "filepath1 = join(data_dir, file1)\n",
    "filepath2 = join(data_dir, file2)\n",
    "\n",
    "files = [filepath1, filepath2]"
   ]
  },
  {
   "cell_type": "code",
   "execution_count": 81,
   "id": "575ed2f2-3573-4502-9230-cc7ed33d8f2e",
   "metadata": {
    "tags": []
   },
   "outputs": [],
   "source": [
    "# Open them both with xarray\n",
    "# This is the same arguments as used in productive\n",
    "ds = open_mfdataset(files)"
   ]
  },
  {
   "cell_type": "code",
   "execution_count": 84,
   "id": "f58253c0-898b-4d0c-aeb2-875addb64714",
   "metadata": {
    "tags": []
   },
   "outputs": [],
   "source": [
    "# Save this dataset to a file\n",
    "test_path = \"/g/data/hd50/jt4085/qc_issues/224/test_combined.nc\"\n",
    "\n",
    "ds.to_netcdf(test_path)"
   ]
  },
  {
   "cell_type": "code",
   "execution_count": 85,
   "id": "f5841cbb-974e-433e-a383-62f7e55d4f2d",
   "metadata": {
    "tags": []
   },
   "outputs": [],
   "source": [
    "# Now open the new file with xarray\n",
    "ds_combined = open_dataset(test_path)"
   ]
  },
  {
   "cell_type": "code",
   "execution_count": 86,
   "id": "6244b1be-3f9b-4231-828a-dce45a6b7068",
   "metadata": {
    "tags": []
   },
   "outputs": [
    {
     "name": "stdout",
     "output_type": "stream",
     "text": [
      "-0.0028076171875\n",
      "-3.94189453125\n"
     ]
    }
   ],
   "source": [
    "# Compare the minima\n",
    "print(ds['snow_amt_lnd'].min().compute().values)\n",
    "print(ds_combined['snow_amt_lnd'].min().compute().values)"
   ]
  }
 ],
 "metadata": {
  "kernelspec": {
   "display_name": "Python [conda env:analysis3]",
   "language": "python",
   "name": "conda-env-analysis3-py"
  },
  "language_info": {
   "codemirror_mode": {
    "name": "ipython",
    "version": 3
   },
   "file_extension": ".py",
   "mimetype": "text/x-python",
   "name": "python",
   "nbconvert_exporter": "python",
   "pygments_lexer": "ipython3",
   "version": "3.9.17"
  }
 },
 "nbformat": 4,
 "nbformat_minor": 5
}
