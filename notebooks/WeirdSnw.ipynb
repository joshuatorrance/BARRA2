{
 "cells": [
  {
   "cell_type": "markdown",
   "id": "b87b54a9-337f-409a-b5c3-2f06158c48cb",
   "metadata": {},
   "source": [
    "# Minimum example of weird snow netCDF behaviour"
   ]
  },
  {
   "cell_type": "code",
   "execution_count": 54,
   "id": "4d71e210-db62-4fef-a40f-f0e7a3893852",
   "metadata": {
    "jupyter": {
     "source_hidden": true
    },
    "tags": []
   },
   "outputs": [],
   "source": [
    "from xarray import open_dataset, open_mfdataset\n",
    "import xarray as xr\n",
    "from glob import glob\n",
    "from os import mkdir\n",
    "from os.path import join, exists, basename\n",
    "from tarfile import open as open_tar\n",
    "from matplotlib import pyplot as plt\n",
    "from numpy import count_nonzero, isnan, mean\n",
    "from numpy.ma import count_masked\n",
    "import netCDF4\n",
    "import numpy as np\n",
    "import pandas as pd\n",
    "import cartopy.crs as ccrs"
   ]
  },
  {
   "cell_type": "code",
   "execution_count": null,
   "id": "8b6f4b5b-f134-4466-868f-6ff9970fcaed",
   "metadata": {
    "jupyter": {
     "source_hidden": true
    },
    "tags": []
   },
   "outputs": [],
   "source": [
    "from dask.distributed import Client, LocalCluster\n",
    "cluster = LocalCluster()\n",
    "client = Client(cluster)\n",
    "#client"
   ]
  },
  {
   "cell_type": "code",
   "execution_count": 87,
   "id": "9bcee170-c788-485b-9883-ce5bcf9eb2ce",
   "metadata": {
    "tags": []
   },
   "outputs": [],
   "source": [
    "# File paths\n",
    "\n",
    "# Unpacked data\n",
    "data_dir = \"/scratch/hd50/jt4085/cylc-run/pp_BARRA-R2_SNW/run1/share/cycle/19930301T0000Z/nc/SLV3H\"\n",
    "file1 = \"snow_amt_lnd-barra_r2-hres-199303200900-199303201500.nc\"\n",
    "file2 = \"snow_amt_lnd-barra_r2-hres-199303201500-199303202100.nc\"\n",
    "\n",
    "filepath1 = join(data_dir, file1)\n",
    "filepath2 = join(data_dir, file2)\n",
    "\n",
    "files = [filepath1, filepath2]"
   ]
  },
  {
   "cell_type": "code",
   "execution_count": 88,
   "id": "575ed2f2-3573-4502-9230-cc7ed33d8f2e",
   "metadata": {
    "tags": []
   },
   "outputs": [],
   "source": [
    "# Open them both with xarray\n",
    "ds = open_mfdataset(files)"
   ]
  },
  {
   "cell_type": "code",
   "execution_count": 92,
   "id": "f58253c0-898b-4d0c-aeb2-875addb64714",
   "metadata": {
    "tags": []
   },
   "outputs": [],
   "source": [
    "# Save this dataset to a file\n",
    "test_path = \"/g/data/hd50/jt4085/qc_issues/224/test_combined.nc\"\n",
    "\n",
    "ds.to_netcdf(test_path)"
   ]
  },
  {
   "cell_type": "code",
   "execution_count": 93,
   "id": "f5841cbb-974e-433e-a383-62f7e55d4f2d",
   "metadata": {
    "tags": []
   },
   "outputs": [],
   "source": [
    "# Now open the new file with xarray\n",
    "ds_combined = open_dataset(test_path)"
   ]
  },
  {
   "cell_type": "code",
   "execution_count": 94,
   "id": "6244b1be-3f9b-4231-828a-dce45a6b7068",
   "metadata": {
    "tags": []
   },
   "outputs": [
    {
     "name": "stdout",
     "output_type": "stream",
     "text": [
      "-0.0028076171875\n",
      "-3.94189453125\n"
     ]
    }
   ],
   "source": [
    "# Compare the minima\n",
    "print(ds['snow_amt_lnd'].min().compute().values)\n",
    "print(ds_combined['snow_amt_lnd'].min().compute().values)"
   ]
  },
  {
   "cell_type": "code",
   "execution_count": null,
   "id": "206077d1-09c6-4bb5-999b-7131376919fa",
   "metadata": {},
   "outputs": [],
   "source": [
    "###########"
   ]
  },
  {
   "cell_type": "code",
   "execution_count": 96,
   "id": "09dff2dd-0f8f-49c4-8e13-f63ec31cc346",
   "metadata": {
    "tags": []
   },
   "outputs": [],
   "source": [
    "ds1 = open_dataset(filepath1)\n",
    "ds2 = open_dataset(filepath1)"
   ]
  },
  {
   "cell_type": "code",
   "execution_count": 98,
   "id": "d06237e2-3327-4aa2-bade-1da665c9475c",
   "metadata": {
    "tags": []
   },
   "outputs": [
    {
     "name": "stdout",
     "output_type": "stream",
     "text": [
      "-0.0028076171875\n",
      "-0.0028076171875\n"
     ]
    }
   ],
   "source": [
    "print(ds1['snow_amt_lnd'].min().compute().values)\n",
    "print(ds2['snow_amt_lnd'].min().compute().values)"
   ]
  },
  {
   "cell_type": "code",
   "execution_count": 99,
   "id": "5ee58314-6651-4024-98f6-b5df9cb3d73a",
   "metadata": {
    "tags": []
   },
   "outputs": [],
   "source": [
    "test_path1 = \"/g/data/hd50/jt4085/qc_issues/224/test_1.nc\"\n",
    "test_path2 = \"/g/data/hd50/jt4085/qc_issues/224/test_2.nc\"\n",
    "\n",
    "ds1.to_netcdf(test_path1)\n",
    "ds2.to_netcdf(test_path2)"
   ]
  },
  {
   "cell_type": "code",
   "execution_count": 100,
   "id": "afc499fa-b114-4eef-af27-549cda2741a0",
   "metadata": {
    "tags": []
   },
   "outputs": [],
   "source": [
    "ds1_saved = open_dataset(test_path1)\n",
    "ds2_saved = open_dataset(test_path2)"
   ]
  },
  {
   "cell_type": "code",
   "execution_count": 101,
   "id": "70e7157d-ff65-4757-bd6d-a828c9747c9a",
   "metadata": {
    "tags": []
   },
   "outputs": [
    {
     "name": "stdout",
     "output_type": "stream",
     "text": [
      "-0.0028076171875\n",
      "-0.0028076171875\n"
     ]
    }
   ],
   "source": [
    "print(ds1_saved['snow_amt_lnd'].min().compute().values)\n",
    "print(ds2_saved['snow_amt_lnd'].min().compute().values)"
   ]
  }
 ],
 "metadata": {
  "kernelspec": {
   "display_name": "Python [conda env:analysis3]",
   "language": "python",
   "name": "conda-env-analysis3-py"
  },
  "language_info": {
   "codemirror_mode": {
    "name": "ipython",
    "version": 3
   },
   "file_extension": ".py",
   "mimetype": "text/x-python",
   "name": "python",
   "nbconvert_exporter": "python",
   "pygments_lexer": "ipython3",
   "version": "3.9.17"
  }
 },
 "nbformat": 4,
 "nbformat_minor": 5
}
